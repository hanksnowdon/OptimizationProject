{
 "cells": [
  {
   "cell_type": "code",
   "execution_count": 480,
   "metadata": {},
   "outputs": [],
   "source": [
    "import pandas as pd\n",
    "import numpy as np\n",
    "import pybaseball"
   ]
  },
  {
   "cell_type": "code",
   "execution_count": 481,
   "metadata": {},
   "outputs": [],
   "source": [
    "from pybaseball import pitching_stats\n",
    "pitcher_data = pitching_stats(2022, qual=5)\n",
    "pitcher_data = pitcher_data[['IDfg', 'Name', 'Age', 'G', 'IP', 'WAR']]\n",
    "pitcher_data['Age'] = pitcher_data['Age'] - 1"
   ]
  },
  {
   "cell_type": "code",
   "execution_count": 482,
   "metadata": {},
   "outputs": [],
   "source": [
    "from pybaseball import batting_stats\n",
    "batter_data = batting_stats(2022, qual=20)\n",
    "batter_data = batter_data[['IDfg', 'Name', 'Age', 'G', 'AB', 'WAR']]\n",
    "batter_data['Age'] = batter_data['Age'] - 1"
   ]
  },
  {
   "cell_type": "code",
   "execution_count": 483,
   "metadata": {},
   "outputs": [],
   "source": [
    "salaries = pd.read_csv(\"../Data/MLB-Salaries 2000-23 - 2023.csv\", header= 1).drop(\"MLS\", axis = 1)\n",
    "salaries = salaries[salaries['2023'].notna()]"
   ]
  },
  {
   "cell_type": "code",
   "execution_count": 484,
   "metadata": {},
   "outputs": [],
   "source": [
    "appearances = pd.read_csv(\"../Data/PositionAppearances2022.csv\")\n",
    "appearances = appearances.drop(['yearID','teamID', 'lgID', 'G_batting', 'G_defense', \"G_ph\", \"G_pr\"], axis = 1).groupby('playerID', as_index=False).sum() "
   ]
  },
  {
   "cell_type": "code",
   "execution_count": 485,
   "metadata": {},
   "outputs": [],
   "source": [
    "from pybaseball import playerid_reverse_lookup\n",
    "lookuptable = playerid_reverse_lookup(appearances['playerID'], key_type='bbref')\n"
   ]
  },
  {
   "cell_type": "code",
   "execution_count": 486,
   "metadata": {},
   "outputs": [],
   "source": [
    "\n",
    "batter_data = batter_data.merge(lookuptable, left_on= \"IDfg\", right_on= \"key_fangraphs\")\n",
    "batter_data.drop(['key_retro', 'key_mlbam', 'mlb_played_last'], axis = 1, inplace= True)\n",
    "pitcher_data = pitcher_data.merge(lookuptable, left_on= \"IDfg\", right_on= \"key_fangraphs\")\n",
    "pitcher_data.drop(['key_retro', 'key_mlbam', 'mlb_played_last'], axis = 1, inplace= True)\n"
   ]
  },
  {
   "cell_type": "code",
   "execution_count": 487,
   "metadata": {},
   "outputs": [],
   "source": [
    "# This takes a while\n",
    "#from pybaseball import playerid_lookup\n",
    "#df = pd.DataFrame()\n",
    "#for id, row in salaries.iterrows():\n",
    "#    last = f\"{row['Last']}\"\n",
    "#    first = f\"{row['First'].strip()}\" \n",
    "#    a = playerid_lookup(last, first, fuzzy= True).iloc[[0]]\n",
    "#    df = pd.concat([df, a], ignore_index=True)\n",
    "    "
   ]
  },
  {
   "cell_type": "code",
   "execution_count": 488,
   "metadata": {},
   "outputs": [],
   "source": [
    "#df.to_csv('../Data/SalaryLookup.csv')\n",
    "df = pd.read_csv('../Data/SalaryLookup.csv')"
   ]
  },
  {
   "cell_type": "code",
   "execution_count": 489,
   "metadata": {},
   "outputs": [],
   "source": [
    "salaries[\"key_fangraphs\"] = df[\"key_fangraphs\"]"
   ]
  },
  {
   "cell_type": "code",
   "execution_count": 490,
   "metadata": {},
   "outputs": [],
   "source": [
    "batter_data = batter_data.merge(salaries[['2023', 'key_fangraphs']],  on= \"key_fangraphs\")\n",
    "pitcher_data = pitcher_data.merge(salaries[['2023', 'key_fangraphs']],  on= \"key_fangraphs\")"
   ]
  },
  {
   "cell_type": "code",
   "execution_count": 491,
   "metadata": {},
   "outputs": [],
   "source": [
    "import statsapi\n",
    "teams = statsapi.lookup_team(\"\", activeStatus=\"Y\") "
   ]
  },
  {
   "cell_type": "code",
   "execution_count": 492,
   "metadata": {},
   "outputs": [],
   "source": [
    "team_ids = [team['id'] for team in teams]"
   ]
  },
  {
   "cell_type": "code",
   "execution_count": 493,
   "metadata": {},
   "outputs": [],
   "source": [
    "# Pulling rosters from Opening Day 2023\n",
    "rosters_df = pd.DataFrame()\n",
    "for id in team_ids: \n",
    "    roster_string = statsapi.roster(id,'40Man',date=statsapi.get('season',{'seasonId':2023,'sportId':1})['seasons'][0]['regularSeasonStartDate'])\n",
    "    rows = [line.split(maxsplit=2) for line in roster_string.strip().split('\\n')]\n",
    "    df = pd.DataFrame(rows, columns=['Number', 'Position', 'Player'])\n",
    "    df[['First Name', 'Last Name']] = df['Player'].str.split(n=1, expand=True)\n",
    "    df['teamid'] = id\n",
    "    rosters_df = pd.concat([rosters_df, df], ignore_index=True)\n"
   ]
  },
  {
   "cell_type": "code",
   "execution_count": 494,
   "metadata": {},
   "outputs": [],
   "source": [
    "rosters_df\n",
    "rosters_df = rosters_df.merge(pd.DataFrame(teams)[['id', 'shortName']], left_on= \"teamid\", right_on= \"id\").drop([\"id\"], axis = 1)"
   ]
  },
  {
   "cell_type": "code",
   "execution_count": 495,
   "metadata": {},
   "outputs": [],
   "source": [
    "# This takes a while - mapping players with teams back to ids \n",
    "#from pybaseball import playerid_lookup\n",
    "#mapped_rosters = pd.DataFrame()\n",
    "#for id, row in rosters_df.iterrows():\n",
    "#    last = f\"{row['Last Name']}\"\n",
    "#    first = f\"{row['First Name'].strip()}\" \n",
    "#    a = playerid_lookup(last, first, fuzzy= True).iloc[[0]] \n",
    "#    a['Last Name'] = row['Last Name']\n",
    "#    a['First Name'] = row['First Name']\n",
    "#    a['shortName'] = row['shortName']\n",
    "#    a['Number'] = row['Number']            \n",
    "#    mapped_rosters = pd.concat([mapped_rosters, a], ignore_index=True)"
   ]
  },
  {
   "cell_type": "code",
   "execution_count": 496,
   "metadata": {},
   "outputs": [],
   "source": [
    "#mapped_rosters.to_csv('../Data/RosterLookup.csv')\n",
    "mapped_rosters = pd.read_csv('../Data/RosterLookup.csv')"
   ]
  },
  {
   "cell_type": "code",
   "execution_count": 497,
   "metadata": {},
   "outputs": [],
   "source": [
    "mapped_rosters = mapped_rosters[['key_fangraphs', 'shortName' ]]"
   ]
  },
  {
   "cell_type": "code",
   "execution_count": 498,
   "metadata": {},
   "outputs": [],
   "source": [
    "batter_data = batter_data.merge(mapped_rosters ,  on= \"key_fangraphs\")\n",
    "pitcher_data = pitcher_data.merge(mapped_rosters , on= \"key_fangraphs\")"
   ]
  },
  {
   "cell_type": "code",
   "execution_count": 499,
   "metadata": {},
   "outputs": [],
   "source": [
    "# import os \n",
    "\n",
    "# folder_path = '../Data/2023 OD Contracts/'\n",
    "# futurecontracts_df = pd.DataFrame()\n",
    "\n",
    "# # Loop through each file in the folder\n",
    "# for filename in os.listdir(folder_path):\n",
    "#     if filename.endswith('.xlsx'): \n",
    "\n",
    "#         df = pd.read_excel(os.path.join(folder_path, filename), skiprows=7)\n",
    "#         df = df.dropna(subset=['Unnamed: 1'])\n",
    "\n",
    "#         df_subset = df[['Unnamed: 0', 'Unnamed: 1', 2024, 2025, 2026, '2027']].rename(columns={'Unnamed: 0': 'Name', 'Unnamed: 1': 'Position'})\n",
    "\n",
    "#         df_subset.loc[df_subset['Position'].str.contains('rhp-s|lhp-s', na=False, case=False), 'Position'] = 'Starter'\n",
    "#         df_subset.loc[df_subset['Position'].isin(['rhp', 'lhp', 'rhp-c', 'lhp-c']), 'Position'] = 'Reliever'\n",
    "#         df_subset.loc[~df_subset['Position'].isin(['Starter', 'Reliever']), 'Position'] = 'Batter'\n",
    "\n",
    "#         df_subset['S2'] = df[[2024, 2025, 2026, '2027']].eq('A4').any(axis=1)\n",
    "\n",
    "#         futurecontracts_df = pd.concat([futurecontracts_df, df_subset], ignore_index=True) \n"
   ]
  },
  {
   "cell_type": "code",
   "execution_count": 500,
   "metadata": {},
   "outputs": [],
   "source": [
    "# futurecontracts_df[['Last', 'First']] = futurecontracts_df['Name'].str.split(', ', expand=True)"
   ]
  },
  {
   "cell_type": "code",
   "execution_count": 501,
   "metadata": {},
   "outputs": [],
   "source": [
    "# # This takes a while\n",
    "# from pybaseball import playerid_lookup\n",
    "# future_mapped = pd.DataFrame()\n",
    "# for id, row in futurecontracts_df.iterrows():\n",
    "#     last = f\"{row['Last']}\"\n",
    "#     first = f\"{row['First']}\" \n",
    "#     a = playerid_lookup(last, first, fuzzy= True).iloc[[0]]\n",
    "#     a['2024'] = row[2024]\n",
    "#     a['S2'] = row['S2']\n",
    "#     a['SimplePosition'] = row['Position']     \n",
    "#     future_mapped = pd.concat([future_mapped, a], ignore_index=True)\n",
    " "
   ]
  },
  {
   "cell_type": "code",
   "execution_count": 502,
   "metadata": {},
   "outputs": [],
   "source": [
    "# future_mapped = future_mapped[['key_fangraphs', '2024', 'SimplePosition' , 'S2']]\n",
    "# future_mapped.to_csv('../Data/Lookup2024.csv')\n",
    "future_mapped = pd.read_csv('../Data/Lookup2024.csv').drop([\"Unnamed: 0\"], axis = 1)"
   ]
  },
  {
   "cell_type": "code",
   "execution_count": 503,
   "metadata": {},
   "outputs": [],
   "source": [
    "batter_data = batter_data.merge(future_mapped ,  on= \"key_fangraphs\")\n",
    "pitcher_data = pitcher_data.merge(future_mapped , on= \"key_fangraphs\")"
   ]
  },
  {
   "cell_type": "code",
   "execution_count": 504,
   "metadata": {},
   "outputs": [],
   "source": [
    "batter_data = batter_data.merge(appearances ,  left_on= \"key_bbref\", right_on = \"playerID\") "
   ]
  },
  {
   "cell_type": "code",
   "execution_count": 505,
   "metadata": {},
   "outputs": [],
   "source": [
    "# From https://blogs.fangraphs.com/an-arbitration-compensation-update/\n",
    "def calculate_2024Est(row):\n",
    "    multipliers = {\n",
    "        ('Batter', False): {'A1': 1.36, 'A2': 2.13, 'A3': 3.59 },\n",
    "        ('Batter', True): {'A1': 1.08, 'A2': 1.86, 'A3': 2.66, 'A4': 4.19},\n",
    "        ('Starter', False): {'A1': 1.38, 'A2': 2.35, 'A3': 3.34},\n",
    "        ('Starter', True): {'A1': 1.11, 'A2': 1.97, 'A3': 2.97, 'A4': 3.88},\n",
    "        ('Reliever', False): {'A1': 1.79, 'A2': 3.98, 'A3': 5.61},\n",
    "        ('Reliever', True): {'A1': 1.57, 'A2': 3.11, 'A3': 3.98, 'A4': 7.60}\n",
    "    }\n",
    "    position = row['SimplePosition']\n",
    "    s2 = row['S2']\n",
    "    multiplier_key = (position, s2)\n",
    "    if pd.isna(row['2024']) or row['2024'] == 'FA':  # Handle NaN and 'FA' values\n",
    "        return 0\n",
    "    elif '$' in row['2024']: \n",
    "        return float(row['2024'].replace('$', '').replace(',', '')) * 1000000\n",
    "    else: \n",
    "        multiplier = multipliers.get(multiplier_key, {}).get(row['2024'], 0)  # Default to 0 if not found \n",
    "        if row['WAR'] >= 0:\n",
    "            return 720000 + row['WAR'] * multiplier * 1000000\n",
    "        else:\n",
    "            return 720000\n",
    "\n",
    "# Apply the function to create the '2024Est' column\n",
    "pitcher_data['2024Est'] = pitcher_data.apply(calculate_2024Est, axis=1)\n",
    "batter_data['2024Est'] = batter_data.apply(calculate_2024Est, axis=1)\n"
   ]
  },
  {
   "cell_type": "code",
   "execution_count": 506,
   "metadata": {},
   "outputs": [],
   "source": [
    "pitcher_data['2023'] = pitcher_data['2023'].replace('[\\$,]', '', regex=True).astype(float)\n",
    "batter_data['2023'] = batter_data['2023'].replace('[\\$,]', '', regex=True).astype(float)"
   ]
  },
  {
   "cell_type": "code",
   "execution_count": 507,
   "metadata": {},
   "outputs": [],
   "source": [
    "pitcher_data['Selectable'] = pitcher_data['mlb_played_first'].apply(lambda x: 1 if x <= 2019 else 0) \n",
    "batter_data['Selectable'] = batter_data['mlb_played_first'].apply(lambda x: 1 if x <= 2019 else 0) "
   ]
  },
  {
   "cell_type": "code",
   "execution_count": 509,
   "metadata": {},
   "outputs": [],
   "source": [
    "# Create new columns for each position\n",
    "positions = ['c', '1b', '2b', '3b', 'ss', 'lf', 'cf', 'rf' ] \n",
    "for position in positions:\n",
    "    batter_data[f'Position_{position}'] = batter_data[f'G_{position}'].apply(lambda x: 1 if x > 5 else 0)\n",
    "batter_data.drop(columns=[f'G_{position}' for position in positions], inplace=True)\n",
    "batter_data.drop(['G_dh',\"G_p\", \"G_of\", \"key_fangraphs\", \"playerID\"], axis = 1, inplace=True)\n",
    "batter_data['SimplePosition'] = batter_data.apply(lambda row: ','.join([pos for pos in positions if row[f'Position_{pos}'] == 1]), axis=1)"
   ]
  },
  {
   "cell_type": "code",
   "execution_count": 510,
   "metadata": {},
   "outputs": [],
   "source": [
    "pitcher_data['Position_Starter'] = pitcher_data[\"SimplePosition\"] == \"Starter\"\n",
    "pitcher_data['Position_Reliever'] = pitcher_data[\"SimplePosition\"] == \"Reliever\"\n",
    "pitcher_data.drop([ \"key_fangraphs\"], axis = 1, inplace=True)"
   ]
  },
  {
   "cell_type": "code",
   "execution_count": 511,
   "metadata": {},
   "outputs": [],
   "source": [
    "all_columns = set(batter_data.columns).union(set(pitcher_data.columns))\n",
    "\n",
    "# Add missing columns with zeros to df1 and df2\n",
    "for column in all_columns:\n",
    "    if column not in batter_data.columns:\n",
    "        batter_data[column] = 0\n",
    "    if column not in pitcher_data.columns:\n",
    "        pitcher_data[column] = 0\n",
    "\n",
    "player_data = pd.concat([batter_data, pitcher_data], axis=0, sort=False) \n",
    "\n",
    "dummies = pd.get_dummies(player_data['shortName'] , dtype=int) \n",
    "player_data = pd.concat([player_data, dummies], axis=1)"
   ]
  },
  {
   "cell_type": "code",
   "execution_count": 513,
   "metadata": {},
   "outputs": [],
   "source": [
    "player_data.to_csv('../Data/player_data.csv', index=False)"
   ]
  }
 ],
 "metadata": {
  "kernelspec": {
   "display_name": "py-test-env",
   "language": "python",
   "name": "python3"
  },
  "language_info": {
   "codemirror_mode": {
    "name": "ipython",
    "version": 3
   },
   "file_extension": ".py",
   "mimetype": "text/x-python",
   "name": "python",
   "nbconvert_exporter": "python",
   "pygments_lexer": "ipython3",
   "version": "3.11.6"
  }
 },
 "nbformat": 4,
 "nbformat_minor": 2
}
